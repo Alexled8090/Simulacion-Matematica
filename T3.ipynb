{
  "metadata": {
    "kernelspec": {
      "name": "python",
      "display_name": "Python (Pyodide)",
      "language": "python"
    },
    "language_info": {
      "codemirror_mode": {
        "name": "python",
        "version": 3
      },
      "file_extension": ".py",
      "mimetype": "text/x-python",
      "name": "python",
      "nbconvert_exporter": "python",
      "pygments_lexer": "ipython3",
      "version": "3.8"
    }
  },
  "nbformat_minor": 4,
  "nbformat": 4,
  "cells": [
    {
      "cell_type": "markdown",
      "source": "# T3\n### Luis Alejandro Ledesma Mujica\n### 19 agosto 2024",
      "metadata": {}
    },
    {
      "cell_type": "markdown",
      "source": "1. Crear una funcion para encontrar un numero primo que retome True si sí es primo y False si no",
      "metadata": {}
    },
    {
      "cell_type": "code",
      "source": "def esprimo(a) :\n    if a <= 1:\n        return False\n    for i in range(2, int(a**(1/2)) +1):\n        if a % i == 0:\n            return False\n    return True",
      "metadata": {
        "trusted": true
      },
      "outputs": [],
      "execution_count": null
    },
    {
      "cell_type": "markdown",
      "source": "2. Crear una funcion que ingrese un numero a y que se encuentre el numero primo mas cercano\n   $$ 0 <= a <= 100 $$",
      "metadata": {}
    },
    {
      "cell_type": "markdown",
      "source": "3. Pasar a funcion el código de encontrar factorial y encontrar factorial de los siguientes numeros",
      "metadata": {}
    },
    {
      "cell_type": "code",
      "source": "lista1 = [4,7 ,5, 8, 9, 3]\nfor elemento in lista1 :\n    print(esprimo(elemento))",
      "metadata": {
        "trusted": true
      },
      "outputs": [],
      "execution_count": null
    },
    {
      "cell_type": "markdown",
      "source": "4. Crea una lista con los primeros 100 multiplos de 3",
      "metadata": {}
    },
    {
      "cell_type": "code",
      "source": "def multiplos(a):\n    lista2 =[]\n    for i in range(1, 100)\n    x += 3\n    lista2.append()\n    ",
      "metadata": {
        "trusted": true
      },
      "outputs": [],
      "execution_count": null
    }
  ]
}