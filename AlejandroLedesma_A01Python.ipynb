{
  "metadata": {
    "kernelspec": {
      "name": "python",
      "display_name": "Python (Pyodide)",
      "language": "python"
    },
    "language_info": {
      "codemirror_mode": {
        "name": "python",
        "version": 3
      },
      "file_extension": ".py",
      "mimetype": "text/x-python",
      "name": "python",
      "nbconvert_exporter": "python",
      "pygments_lexer": "ipython3",
      "version": "3.8"
    }
  },
  "nbformat_minor": 4,
  "nbformat": 4,
  "cells": [
    {
      "cell_type": "markdown",
      "source": "## Luis Alejandro Ledesma Mujica\n### 18/agosto/2024",
      "metadata": {}
    },
    {
      "cell_type": "code",
      "source": "x = 5\ny = 1\nz = 1\nwhile z <= x :\n    y = y * z\n    z = z + 1\nprint(\"el factorial de \" +str(x), \"es igual a \" + str(y))",
      "metadata": {
        "trusted": true
      },
      "outputs": [
        {
          "name": "stdout",
          "text": "el factorial de 5 es igual a 120\n",
          "output_type": "stream"
        }
      ],
      "execution_count": 2
    },
    {
      "cell_type": "code",
      "source": "x = 12\ny = 2\ntrue = 1\n\nwhile y * y <= x:\n    if x % y == 0:\n        true = 0\n    y += 1\n\nif true == 1:\n    print(\"Es primo\")\nelse:\n    print(\"no es primo\")",
      "metadata": {
        "trusted": true
      },
      "outputs": [
        {
          "name": "stdout",
          "text": "no es primo\n",
          "output_type": "stream"
        }
      ],
      "execution_count": 3
    },
    {
      "cell_type": "code",
      "source": "",
      "metadata": {
        "trusted": true
      },
      "outputs": [],
      "execution_count": null
    }
  ]
}