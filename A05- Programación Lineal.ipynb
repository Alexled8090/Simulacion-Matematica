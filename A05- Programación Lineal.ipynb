{
 "cells": [
  {
   "cell_type": "markdown",
   "id": "984402d2-7438-4b39-b826-e5755a994935",
   "metadata": {},
   "source": [
    "# A05 - Programación Lineal"
   ]
  },
  {
   "cell_type": "markdown",
   "id": "02aa761e-6323-481d-85ff-af877cd27aca",
   "metadata": {},
   "source": [
    "## Luis Alejandro Ledesma Mujica"
   ]
  },
  {
   "cell_type": "markdown",
   "id": "08055702-257a-4ac2-8dd2-738bba186a9d",
   "metadata": {},
   "source": [
    "### Ejercicio 1"
   ]
  },
  {
   "cell_type": "markdown",
   "id": "679627ee-1e17-4c40-9855-0811748cdd5d",
   "metadata": {},
   "source": [
    "Se quiere producir comida para gatos de la manera más barata, no obstante se debe también asegurar que se cumplan los datos requeridos de analisis nutricional. Por lo que se quiere variar la cantidad de cada ingrediente para cumplir con los estandares nutricionales. Los requisitos que se tienen es que en 100 gramos, se deben tener por lo menos 9 gramos de proteína y  7 gramos de grasa. Así mismo, no se debe tener más de 2.5 gramos de fibra y 0.5 gramos de sal."
   ]
  },
  {
   "cell_type": "markdown",
   "id": "88522242-9353-444e-9670-6d24e5913fce",
   "metadata": {},
   "source": [
    "1. Que me piden: minimizar gastos\n",
    "2. En que puedo influir: Pollo, Carne, Cordero, Arroz, Trigo, Gel.\n",
    "4. Función de costo: $$ y = 0.012x_p + 0.009x_c + 0.01x_b + 0.003x_a + 0.005x_t + 0.002x_g$$\n",
    "   \n",
    "5. info adicional: $$ peso \\geq 100$$ \n",
    "$$proteina \\geq 9$$ \n",
    "$$grasa \\geq 7 $$\n",
    "$$fibra \\leq 2.5 $$\n",
    "$$ sal \\leq 0.5 $$\n",
    "\n",
    "$$ $$\n",
    "\n",
    "$$\\text{s.t.}$$\n",
    "sal\n",
    "$$0.09x_p + 0.07x_g + 0.025x_f \\leq 0.5$$\n"
   ]
  },
  {
   "cell_type": "markdown",
   "id": "6d54f45c-0b2e-4cf0-8967-109abcdc1aed",
   "metadata": {},
   "source": [
    "#### Ejercicio 2"
   ]
  },
  {
   "cell_type": "markdown",
   "id": "ada14e57-e9a5-4ebf-900e-0f659b6f040c",
   "metadata": {},
   "source": [
    "1. Minimizar costo\n",
    "3. función de costo:\n",
    "   $$y = 5x_g + 2y_g + 5 z_g + 2x_l + 4y_l + 2z_l + 7x_m + 5y_m + 3z_m$$\n",
    "4. info adicional:\n",
    "   $$Planta 1 \\leq 75$$ $$Planta2 \\leq 50$$ $$Planta 3 \\leq 60$$\n",
    "   $$ $$\n",
    "   $$Guadalajara \\geq 60$$ $$León \\geq 45$$ $$Morelia \\geq60$$\n",
    "\n",
    "   $$ $$\n",
    "   $$ s.t $$\n",
    "   $$a$$"
   ]
  },
  {
   "cell_type": "markdown",
   "id": "b163036f-e57c-4c67-abdc-11d0b2b6ce08",
   "metadata": {},
   "source": [
    "La Comisión Federal de Electricidad (CFE) dispone de cuatro plantas de generación para satisfacer la demanda diaria eléctrica en cuatro ciudades, Guadalajara, León y Morelia. Las plantas 1, 2 y 3 pueden satisfacer 75, 50 y 60 millones de kW al día respectivamente. Las necesidades de las ciudades de Guadalajara, León y Morelia son de 60, 45 y 60 millones de Kw al día respectivamente.\n",
    "\n",
    "Los costos asociados al envío de suministro energético por cada millón de kW entre cada planta y cada ciudad son los registrados en la siguiente tabla.\n",
    "\n",
    "-\t        Guadalajara\tLeón\tMorelia\n",
    "Planta 1\t5\t        2\t    7\n",
    "Planta 2\t3\t        4\t    5\n",
    "Planta 3\t5\t        2\t    3\n"
   ]
  }
 ],
 "metadata": {
  "kernelspec": {
   "display_name": "Python 3 (ipykernel)",
   "language": "python",
   "name": "python3"
  },
  "language_info": {
   "codemirror_mode": {
    "name": "ipython",
    "version": 3
   },
   "file_extension": ".py",
   "mimetype": "text/x-python",
   "name": "python",
   "nbconvert_exporter": "python",
   "pygments_lexer": "ipython3",
   "version": "3.12.4"
  }
 },
 "nbformat": 4,
 "nbformat_minor": 5
}
