{
 "cells": [
  {
   "cell_type": "markdown",
   "id": "805c9f9f-ca2a-44ea-a1e1-f28a26ef1c72",
   "metadata": {},
   "source": [
    "Usa los 5 pasos vistos en clase para plantear adecuadamente el siguiente ejercicio. Después, utiliza linprog para resolverlo.\n",
    "\n",
    "Ejercicio 1.\n",
    "\n",
    "Una carpintería local fabrica sillas, mesas, libreros y bases de cama. Hay dos empleados en esta carpintería: un empleado experimentado y un aprendiz. El aprendiz tarda aproximadamente 50% más tiempo que el carpintero experimentado en construir cualquier cosa, además de que tiene un desperdicio de alrededor de 20% de material. Los materiales y tiempos necesarios para construir algo se desglozan en la siguiente tabla:\n",
    "\n",
    "Producto\tTiempo [h]\tMaterial [unidades de madera]\n",
    "Mesas\t3\t6\n",
    "Sillas\t1\t2\n",
    "Libreros\t4\t5\n",
    "Bases de cama\t3\t5\n",
    "Las mesas se venden en $9000, las sillas en $3000, los libreros en $10000, y las bases de cama en $9000. Suponiendo una jornada de 40 horas a la semana y que tienen 100 unidades de madera, ¿qué les conviene construir durante una semana para maximizar su ganancia?\n",
    "\n",
    "¿Cuántas horas trabaja cada quién?\n",
    "¿Cuánto material se usa?\n",
    "¿Cuál se el ingreso total si se vende todo lo fabricado?\n",
    "2. La carpintería recibió una orden por 3 combos de mesa + 6 sillas.\n",
    "\n",
    "¿Se puede cumplir la orden?\n",
    "Si sí, ¿qué es lo que tienen que fabricar en el resto del tiempo y con el resto del material para maximizar su ganancia?\n",
    "¿Cuántas horas trabaja cada quién?\n",
    "¿Cuánto material se usa?\n",
    "¿Cuál es el nuevo ingreso total?"
   ]
  },
  {
   "cell_type": "code",
   "execution_count": 33,
   "id": "4de05ff6-eb5a-4c82-9351-dca25b60b95b",
   "metadata": {},
   "outputs": [
    {
     "name": "stdout",
     "output_type": "stream",
     "text": [
      "zsh:1: no matches found: [[A06.png]]\n"
     ]
    }
   ],
   "source": [
    "!([[A06.png]])"
   ]
  },
  {
   "cell_type": "markdown",
   "id": "ae0b7b5a-a4f0-4bc0-932f-9edf58594328",
   "metadata": {},
   "source": [
    "1. que ocupo: minimizar\n",
    "   $$ $$\n",
    "3. Que puedo modificar: Mesas, sillas, libreros, base de cama\n",
    "   $$ $$\n",
    "4. $$9000x_{me} + 9000x_{ma} + 3000x_{se} + 3000x{sa}+ 10000x_{le} + 10000x_{la} + 9000x_{ce} + 9000x_{ca}$$\n",
    "5. limitantes:\n",
    "   $$ 3x_{me}, 1x_{se},4x_{le},3x_{ce}\\geq 40 $$\n",
    "   $$ 4.5x_{ma}, 1.5x_{sa},6x_{la},4.5x_{ca} \\geq 40 $$\n",
    "   $$ 6x_{me}, 2x_{se},5x_{le},5x_{ce}  \\geq 100$$\n",
    "   $$7.2x_{ma}, 2.4x_{sa},6x_{la},6x_{ca}\\geq 100$$\n",
    "\n"
   ]
  },
  {
   "cell_type": "code",
   "execution_count": 50,
   "id": "0d57f9d8-6986-4af1-88f4-e34c82bc70a2",
   "metadata": {},
   "outputs": [
    {
     "ename": "SyntaxError",
     "evalue": "invalid syntax (981256893.py, line 14)",
     "output_type": "error",
     "traceback": [
      "\u001b[0;36m  Cell \u001b[0;32mIn[50], line 14\u001b[0;36m\u001b[0m\n\u001b[0;31m    Aub:\u001b[0m\n\u001b[0m         ^\u001b[0m\n\u001b[0;31mSyntaxError\u001b[0m\u001b[0;31m:\u001b[0m invalid syntax\n"
     ]
    }
   ],
   "source": [
    "import numpy as np\n",
    "\n",
    "c = np.array([\n",
    "    9000,\n",
    "    9000,\n",
    "    3000,\n",
    "    3000,\n",
    "    10000,\n",
    "    10000,\n",
    "    9000,\n",
    "    9000])\n",
    "\n",
    "\n",
    "Aub: "
   ]
  },
  {
   "cell_type": "code",
   "execution_count": null,
   "id": "7f86c638-f3f5-477d-9e8d-2108089b20a5",
   "metadata": {},
   "outputs": [],
   "source": []
  },
  {
   "cell_type": "code",
   "execution_count": null,
   "id": "2558a00a-9326-4c11-b507-2aa2118eece8",
   "metadata": {},
   "outputs": [],
   "source": []
  },
  {
   "cell_type": "code",
   "execution_count": null,
   "id": "0ef84736-d9f4-42e4-b087-adada4c792a8",
   "metadata": {},
   "outputs": [],
   "source": []
  }
 ],
 "metadata": {
  "kernelspec": {
   "display_name": "Python 3 (ipykernel)",
   "language": "python",
   "name": "python3"
  },
  "language_info": {
   "codemirror_mode": {
    "name": "ipython",
    "version": 3
   },
   "file_extension": ".py",
   "mimetype": "text/x-python",
   "name": "python",
   "nbconvert_exporter": "python",
   "pygments_lexer": "ipython3",
   "version": "3.12.4"
  }
 },
 "nbformat": 4,
 "nbformat_minor": 5
}
